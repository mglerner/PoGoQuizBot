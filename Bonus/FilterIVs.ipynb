{
 "cells": [
  {
   "cell_type": "code",
   "execution_count": 1,
   "id": "concerned-xerox",
   "metadata": {},
   "outputs": [],
   "source": [
    "import pandas as pd, numpy as np"
   ]
  },
  {
   "cell_type": "code",
   "execution_count": 2,
   "id": "elegant-conditions",
   "metadata": {},
   "outputs": [],
   "source": [
    "df = pd.read_csv('poke_genie_export.csv')"
   ]
  },
  {
   "cell_type": "code",
   "execution_count": 3,
   "id": "alpha-enemy",
   "metadata": {},
   "outputs": [],
   "source": [
    "df = df[df['Name'] == 'Phantump']"
   ]
  },
  {
   "cell_type": "code",
   "execution_count": 4,
   "id": "exceptional-apollo",
   "metadata": {},
   "outputs": [
    {
     "data": {
      "text/plain": [
       "Index(['Index', 'Name', 'Form', 'Pokemon Number', 'Gender', 'CP', 'HP',\n",
       "       'Atk IV', 'Def IV', 'Sta IV', 'IV Avg', 'Level Min', 'Level Max',\n",
       "       'Quick Move', 'Charge Move', 'Charge Move 2', 'Scan Date',\n",
       "       'Original Scan Date', 'Catch Date', 'Weight', 'Height', 'Lucky',\n",
       "       'Shadow/Purified', 'Favorite', 'Dust', 'Rank % (G)', 'Rank # (G)',\n",
       "       'Stat Prod (G)', 'Dust Cost (G)', 'Candy Cost (G)', 'Name (G)',\n",
       "       'Form (G)', 'Sha/Pur (G)', 'Rank % (U)', 'Rank # (U)', 'Stat Prod (U)',\n",
       "       'Dust Cost (U)', 'Candy Cost (U)', 'Name (U)', 'Form (U)',\n",
       "       'Sha/Pur (U)', 'Marked for PvP use'],\n",
       "      dtype='object')"
      ]
     },
     "execution_count": 4,
     "metadata": {},
     "output_type": "execute_result"
    }
   ],
   "source": [
    "df.columns"
   ]
  },
  {
   "cell_type": "code",
   "execution_count": 5,
   "id": "d80dc933-7f1a-47e4-a677-ebb14992f534",
   "metadata": {},
   "outputs": [],
   "source": [
    "\n",
    "def get_cpm(level):\n",
    "    d = {\n",
    "        1:\t0.094,\n",
    "        1.5: 0.1351374318,\n",
    "        2: 0.16639787,\n",
    "        2.5: 0.192650919,\n",
    "        3: 0.21573247,\n",
    "        3.5: 0.2365726613,\n",
    "        4: 0.25572005,\n",
    "        4.5: 0.2735303812,\n",
    "        5: 0.29024988,\n",
    "        5.5: 0.3060573775,\n",
    "        6: 0.3210876,\n",
    "        6.5: 0.3354450362,\n",
    "        7: 0.34921268,\n",
    "        7.5: 0.3624577511,\n",
    "        8: 0.3752356,\n",
    "        8.5: 0.387592416,\n",
    "        9: 0.39956728,\n",
    "        9.5: 0.4111935514,\n",
    "        10: 0.4225,\n",
    "        10.5: 0.4329264091,\n",
    "        11: 0.44310755,\n",
    "        11.5: 0.4530599591,\n",
    "        12: 0.4627984,\n",
    "        12.5: 0.472336093,\n",
    "        13: 0.48168495,\n",
    "        13.5: 0.4908558003,\n",
    "        14: 0.49985844,\n",
    "        14.5: 0.508701765,\n",
    "        15: 0.51739395,\n",
    "        15.5: 0.5259425113,\n",
    "        16: 0.5343543,\n",
    "        16.5: 0.5426357375,\n",
    "        17: 0.5507927,\n",
    "        17.5: 0.5588305862,\n",
    "        18: 0.5667545,\n",
    "        18.5: 0.5745691333,\n",
    "        19: 0.5822789,\n",
    "        19.5: 0.5898879072,\n",
    "        20: 0.5974,\n",
    "        20.5: 0.6048236651,\n",
    "        21: 0.6121573,\n",
    "        21.5: 0.6194041216,\n",
    "        22: 0.6265671,\n",
    "        22.5: 0.6336491432,\n",
    "        23: 0.64065295,\n",
    "        23.5: 0.6475809666,\n",
    "        24: 0.65443563,\n",
    "        24.5: 0.6612192524,\n",
    "        25: 0.667934,\n",
    "        25.5: 0.6745818959,\n",
    "        26: 0.6811649,\n",
    "        26.5: 0.6876849038,\n",
    "        27: 0.69414365,\n",
    "        27.5: 0.70054287,\n",
    "        28: 0.7068842,\n",
    "        28.5: 0.7131691091,\n",
    "        29: 0.7193991,\n",
    "        29.5: 0.7255756136,\n",
    "        30: 0.7317,\n",
    "        30.5: 0.7347410093,\n",
    "        31: 0.7377695,\n",
    "        31.5: 0.7407855938,\n",
    "        32: 0.74378943,\n",
    "        32.5: 0.7467812109,\n",
    "        33: 0.74976104,\n",
    "        33.5: 0.7527290867,\n",
    "        34: 0.7556855,\n",
    "        34.5: 0.7586303683,\n",
    "        35: 0.76156384,\n",
    "        35.5: 0.7644860647,\n",
    "        36: 0.76739717,\n",
    "        36.5: 0.7702972656,\n",
    "        37: 0.7731865,\n",
    "        37.5: 0.7760649616,\n",
    "        38: 0.77893275,\n",
    "        38.5: 0.7817900548,\n",
    "        39: 0.784637,\n",
    "        39.5: 0.7874736075,\n",
    "        40: 0.7903,\n",
    "        40.5: 0.792803968,\n",
    "        41: 0.79530001,\n",
    "        }\n",
    "    return d[level]"
   ]
  },
  {
   "cell_type": "code",
   "execution_count": 6,
   "id": "c419aa2e-a827-4de0-997c-112ba3a140b0",
   "metadata": {},
   "outputs": [
    {
     "data": {
      "text/plain": [
       "0.16639787"
      ]
     },
     "execution_count": 6,
     "metadata": {},
     "output_type": "execute_result"
    }
   ],
   "source": [
    "get_cpm(2)"
   ]
  },
  {
   "cell_type": "code",
   "execution_count": 19,
   "id": "f11277b3-f2c9-459b-805d-5829eaa9671f",
   "metadata": {},
   "outputs": [],
   "source": [
    "# for trev\n",
    "def ivs_to_stats(my_a, my_d, my_s,max_level=40,max_cp=1500.99):\n",
    "    base_attack = 201\n",
    "    base_defense = 154\n",
    "    base_stamina = 198\n",
    "    attack = base_attack + my_a\n",
    "    defense = my_d + base_defense\n",
    "    stamina = my_s + base_stamina\n",
    "    level = 10\n",
    "    cp = 10\n",
    "    level_attack, level_defense, level_stamina = 0,0,0\n",
    "    stats = (level, cp, level_attack, level_defense, level_stamina)\n",
    "    while level <= max_level:\n",
    "        cpm = get_cpm(level)\n",
    "        cp = (attack * defense**0.5 * stamina**0.5 * cpm**2) / 10\n",
    "        level_attack = attack * cpm\n",
    "        level_defense = defense * cpm\n",
    "        level_stamina = stamina * cpm\n",
    "        if cp <= max_cp:\n",
    "            stats = level, cp, level_attack, level_defense, level_stamina\n",
    "        level = level + 0.5\n",
    "    level, cp, level_attack, level_defense, level_stamina = stats\n",
    "    return stats\n",
    "    #print(f'level {level} cp {cp:.0f} attack {level_attack:.1f} defense {level_defense:.1f} stamina {level_stamina:.0f}')\n",
    "    \n"
   ]
  },
  {
   "cell_type": "code",
   "execution_count": 20,
   "id": "cfb30d72-3a16-4ebc-90b3-17262902960f",
   "metadata": {},
   "outputs": [
    {
     "data": {
      "text/plain": [
       "(20.5, 1480.8660172622085, 129.4322643314, 101.6103757368, 128.8274406663)"
      ]
     },
     "execution_count": 20,
     "metadata": {},
     "output_type": "execute_result"
    }
   ],
   "source": [
    "ivs_to_stats(13,14,15)"
   ]
  },
  {
   "cell_type": "code",
   "execution_count": 21,
   "id": "1fc4b472-dbb4-485f-ae4b-14e4e96f00db",
   "metadata": {},
   "outputs": [],
   "source": [
    "d = {'CP':[],'max CP':[],'level':[],'attack':[],'defense':[],'stamina':[],'a':[],'d':[],'s':[]}\n",
    "for row in df.iterrows():\n",
    "    i,s = row\n",
    "    orig_cp, my_a, my_d, my_s = s.CP, s['Atk IV'], s['Def IV'], s['Sta IV']\n",
    "    level, cp, attack, defense, stamina = ivs_to_stats(my_a, my_d, my_s,max_level=41)\n",
    "    #print('orig_cp',orig_cp,'my_a',my_a)\n",
    "    d['CP'].append(orig_cp)\n",
    "    d['max CP'].append(int(np.floor(cp)))\n",
    "    d['level'].append(level)\n",
    "    d['attack'].append(attack)\n",
    "    d['defense'].append(defense)\n",
    "    d['stamina'].append(int(np.floor(stamina)))\n",
    "    d['a'].append(my_a)\n",
    "    d['d'].append(my_d)\n",
    "    d['s'].append(my_s)\n",
    "pht = pd.DataFrame.from_dict(d)"
   ]
  },
  {
   "cell_type": "code",
   "execution_count": 22,
   "id": "ccba77b9-1347-49ca-ae19-b6867fd03114",
   "metadata": {},
   "outputs": [
    {
     "data": {
      "text/html": [
       "<div>\n",
       "<style scoped>\n",
       "    .dataframe tbody tr th:only-of-type {\n",
       "        vertical-align: middle;\n",
       "    }\n",
       "\n",
       "    .dataframe tbody tr th {\n",
       "        vertical-align: top;\n",
       "    }\n",
       "\n",
       "    .dataframe thead th {\n",
       "        text-align: right;\n",
       "    }\n",
       "</style>\n",
       "<table border=\"1\" class=\"dataframe\">\n",
       "  <thead>\n",
       "    <tr style=\"text-align: right;\">\n",
       "      <th></th>\n",
       "      <th>CP</th>\n",
       "      <th>max CP</th>\n",
       "      <th>level</th>\n",
       "      <th>attack</th>\n",
       "      <th>defense</th>\n",
       "      <th>stamina</th>\n",
       "      <th>a</th>\n",
       "      <th>d</th>\n",
       "      <th>s</th>\n",
       "    </tr>\n",
       "  </thead>\n",
       "  <tbody>\n",
       "  </tbody>\n",
       "</table>\n",
       "</div>"
      ],
      "text/plain": [
       "Empty DataFrame\n",
       "Columns: [CP, max CP, level, attack, defense, stamina, a, d, s]\n",
       "Index: []"
      ]
     },
     "execution_count": 22,
     "metadata": {},
     "output_type": "execute_result"
    }
   ],
   "source": [
    "# gfisk attack bp\n",
    "these = pht[pht.attack >= 167.98]\n",
    "# hp breakpoint for mirror\n",
    "these = these[these.stamina >= 167]\n",
    "these"
   ]
  },
  {
   "cell_type": "code",
   "execution_count": 23,
   "id": "5d9f6648-905b-4ada-9513-34d1621719c2",
   "metadata": {},
   "outputs": [
    {
     "data": {
      "text/html": [
       "<div>\n",
       "<style scoped>\n",
       "    .dataframe tbody tr th:only-of-type {\n",
       "        vertical-align: middle;\n",
       "    }\n",
       "\n",
       "    .dataframe tbody tr th {\n",
       "        vertical-align: top;\n",
       "    }\n",
       "\n",
       "    .dataframe thead th {\n",
       "        text-align: right;\n",
       "    }\n",
       "</style>\n",
       "<table border=\"1\" class=\"dataframe\">\n",
       "  <thead>\n",
       "    <tr style=\"text-align: right;\">\n",
       "      <th></th>\n",
       "      <th>CP</th>\n",
       "      <th>max CP</th>\n",
       "      <th>level</th>\n",
       "      <th>attack</th>\n",
       "      <th>defense</th>\n",
       "      <th>stamina</th>\n",
       "      <th>a</th>\n",
       "      <th>d</th>\n",
       "      <th>s</th>\n",
       "    </tr>\n",
       "  </thead>\n",
       "  <tbody>\n",
       "    <tr>\n",
       "      <th>17</th>\n",
       "      <td>570</td>\n",
       "      <td>1490</td>\n",
       "      <td>22.0</td>\n",
       "      <td>127.819688</td>\n",
       "      <td>105.889840</td>\n",
       "      <td>128</td>\n",
       "      <td>3</td>\n",
       "      <td>15</td>\n",
       "      <td>7</td>\n",
       "    </tr>\n",
       "    <tr>\n",
       "      <th>23</th>\n",
       "      <td>288</td>\n",
       "      <td>1500</td>\n",
       "      <td>22.0</td>\n",
       "      <td>127.819688</td>\n",
       "      <td>105.263273</td>\n",
       "      <td>130</td>\n",
       "      <td>3</td>\n",
       "      <td>14</td>\n",
       "      <td>11</td>\n",
       "    </tr>\n",
       "  </tbody>\n",
       "</table>\n",
       "</div>"
      ],
      "text/plain": [
       "     CP  max CP  level      attack     defense  stamina  a   d   s\n",
       "17  570    1490   22.0  127.819688  105.889840      128  3  15   7\n",
       "23  288    1500   22.0  127.819688  105.263273      130  3  14  11"
      ]
     },
     "execution_count": 23,
     "metadata": {},
     "output_type": "execute_result"
    }
   ],
   "source": [
    "# mew attack bp\n",
    "these = pht[pht.attack >= 127.8]\n",
    "these = these[these.defense >= 104.9] # best. next is 104.9.\n",
    "# hp breakpoint for mirror\n",
    "these = these[these.stamina >= 128]\n",
    "these # 3/15/7 is RS, I think maybe 3/14/11 for Azu"
   ]
  },
  {
   "cell_type": "code",
   "execution_count": 13,
   "id": "5f1f0144-56c2-42a8-ab7d-bf6b5eb11f17",
   "metadata": {},
   "outputs": [
    {
     "data": {
      "text/html": [
       "<div>\n",
       "<style scoped>\n",
       "    .dataframe tbody tr th:only-of-type {\n",
       "        vertical-align: middle;\n",
       "    }\n",
       "\n",
       "    .dataframe tbody tr th {\n",
       "        vertical-align: top;\n",
       "    }\n",
       "\n",
       "    .dataframe thead th {\n",
       "        text-align: right;\n",
       "    }\n",
       "</style>\n",
       "<table border=\"1\" class=\"dataframe\">\n",
       "  <thead>\n",
       "    <tr style=\"text-align: right;\">\n",
       "      <th></th>\n",
       "      <th>CP</th>\n",
       "      <th>max CP</th>\n",
       "      <th>level</th>\n",
       "      <th>attack</th>\n",
       "      <th>defense</th>\n",
       "      <th>stamina</th>\n",
       "      <th>a</th>\n",
       "      <th>d</th>\n",
       "      <th>s</th>\n",
       "    </tr>\n",
       "  </thead>\n",
       "  <tbody>\n",
       "    <tr>\n",
       "      <th>17</th>\n",
       "      <td>570</td>\n",
       "      <td>1490</td>\n",
       "      <td>22.0</td>\n",
       "      <td>127.819688</td>\n",
       "      <td>105.88984</td>\n",
       "      <td>128</td>\n",
       "      <td>3</td>\n",
       "      <td>15</td>\n",
       "      <td>7</td>\n",
       "    </tr>\n",
       "  </tbody>\n",
       "</table>\n",
       "</div>"
      ],
      "text/plain": [
       "     CP  max CP  level      attack    defense  stamina  a   d  s\n",
       "17  570    1490   22.0  127.819688  105.88984      128  3  15  7"
      ]
     },
     "execution_count": 13,
     "metadata": {},
     "output_type": "execute_result"
    }
   ],
   "source": [
    "# mew attack bp\n",
    "these = pht[pht.attack >= 127] \n",
    "these = these[these.defense >= 104.9] # best. next is 104.9.\n",
    "# hp breakpoint for mirror\n",
    "these = these[these.stamina >= 128]\n",
    "these"
   ]
  },
  {
   "cell_type": "code",
   "execution_count": 18,
   "id": "3dc96e21-faf1-4d42-85bf-beca2e65f0b2",
   "metadata": {},
   "outputs": [
    {
     "data": {
      "text/plain": [
       "(22.0, 1500.697383945778, 127.8196884, 105.26327280000001, 130.95252390000002)"
      ]
     },
     "execution_count": 18,
     "metadata": {},
     "output_type": "execute_result"
    }
   ],
   "source": [
    "ivs_to_stats(my_a=3,my_d=14,my_s=11,max_cp=1501)"
   ]
  },
  {
   "cell_type": "code",
   "execution_count": null,
   "id": "ec040be6-cabb-4446-b576-133e5f75ee3b",
   "metadata": {},
   "outputs": [],
   "source": []
  }
 ],
 "metadata": {
  "kernelspec": {
   "display_name": "Python 3 (ipykernel)",
   "language": "python",
   "name": "python3"
  },
  "language_info": {
   "codemirror_mode": {
    "name": "ipython",
    "version": 3
   },
   "file_extension": ".py",
   "mimetype": "text/x-python",
   "name": "python",
   "nbconvert_exporter": "python",
   "pygments_lexer": "ipython3",
   "version": "3.7.7"
  }
 },
 "nbformat": 4,
 "nbformat_minor": 5
}
